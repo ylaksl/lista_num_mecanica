{
 "cells": [
  {
   "cell_type": "code",
   "execution_count": null,
   "id": "d24181e3",
   "metadata": {},
   "outputs": [],
   "source": []
  },
  {
   "cell_type": "markdown",
   "id": "2008e701",
   "metadata": {},
   "source": [
    "# Questão 4"
   ]
  },
  {
   "cell_type": "markdown",
   "id": "f44c6dd8",
   "metadata": {},
   "source": [
    "a) Calcule o deslocamento $y(t)$, a velocidade $v(t)$ e o alcance do projetil sem considerar o efeito resistivo do ar."
   ]
  },
  {
   "cell_type": "markdown",
   "id": "21005dde",
   "metadata": {},
   "source": [
    "$\\quad$ Como estamos desconsiderando o efeito resistivo do ar, a única força agindo no corpo será a gravitacional. Assim, pela Segunda Lei de Newton, teremos que "
   ]
  },
  {
   "cell_type": "markdown",
   "id": "4d96246b",
   "metadata": {},
   "source": [
    "$$ \\vec{P} = m\\vec{a}.$$"
   ]
  },
  {
   "cell_type": "markdown",
   "id": "e801abc5",
   "metadata": {},
   "source": [
    "Onde podemos descrever o movimento de maneira independente nos eixos $y$ e $x$. Para o eixo $x$:"
   ]
  },
  {
   "cell_type": "markdown",
   "id": "0aa68184",
   "metadata": {},
   "source": [
    "$$ \\vec{P}_x = m\\vec{a}_{x} \\implies 0 = m a_x \\implies m\\frac{d^2x}{dt^2} = 0 \\implies \\frac{d^2x}{dt^2} = 0 \\implies \\frac{d}{dt}\\left( \\frac{dx}{dt}\\right) = 0 \\implies \\frac{dx}{dt} = cte = v_x$$"
   ]
  },
  {
   "cell_type": "markdown",
   "id": "870ed28f",
   "metadata": {},
   "source": [
    "Assim, obtemos que a velocidade é constante para o movimento horintal do projétil, com a função horária da posição sendo obtida ao integrar a expressão acima, ou seja"
   ]
  },
  {
   "cell_type": "markdown",
   "id": "e82696e1",
   "metadata": {},
   "source": [
    "$$ \\boxed{x(t) = x_0 + v_xt},$$"
   ]
  },
  {
   "cell_type": "markdown",
   "id": "47977c99",
   "metadata": {},
   "source": [
    "onde $x_0$ é a posição inicial do projétil."
   ]
  },
  {
   "cell_type": "markdown",
   "id": "f5309985",
   "metadata": {},
   "source": [
    "$\\quad$ Para o eixo $y$:"
   ]
  },
  {
   "cell_type": "markdown",
   "id": "94460555",
   "metadata": {},
   "source": [
    "$$ \\vec{P}_y = m\\vec{a}_y \\implies -mg = ma_y \\implies \\frac{d^2y}{dt^2} = -g \\implies \\frac{d}{dt} \\left( \\frac{dy}{dt}\\right) = -g \\implies \\frac{dv_y}{dt} = -g \\implies dv_y = -gdt$$"
   ]
  },
  {
   "cell_type": "markdown",
   "id": "d8061e01",
   "metadata": {},
   "source": [
    "Podemos integrar a expressão e obter:"
   ]
  },
  {
   "cell_type": "markdown",
   "id": "25e10c1e",
   "metadata": {},
   "source": [
    "$$ \\int_{v_{0y}}^{v_y} dv_y^{\\prime} = - \\int_{t_0=0}^{t} gdt^{\\prime} \\implies v_y - v_{0y} = -gt \\implies \\boxed{v_y = v_{0y} - gt}. $$"
   ]
  },
  {
   "cell_type": "markdown",
   "id": "72946bfd",
   "metadata": {},
   "source": [
    "Mas podemos ressaltar o fato de que $v_y = \\frac{dy}{dt}$, obtendo"
   ]
  },
  {
   "cell_type": "markdown",
   "id": "adaf6e88",
   "metadata": {},
   "source": [
    "$$ \\frac{dy}{dt} = v_{0y} - gt \\implies dy = \\left( v_{0y} - gt\\right)dt \\implies \\int_{y_0}^{y} dy^{\\prime} = \\int_{t_0 = 0}^{t} \\left( v_{0y} -gt\\right)dt^{\\prime}$$"
   ]
  },
  {
   "cell_type": "markdown",
   "id": "471ec05d",
   "metadata": {},
   "source": [
    "$$ \\implies y - y_0 = v_{0y}t - g\\frac{t^2}{2} \\implies \\boxed{y_{(t)} = y_0 + v_{0y}t - g\\frac{t^2}{2}}.$$"
   ]
  },
  {
   "cell_type": "markdown",
   "id": "9f3bde55",
   "metadata": {},
   "source": [
    "A partir dessa expressão $y(t)$, podemos obter a expressão $y(x)$"
   ]
  },
  {
   "cell_type": "code",
   "execution_count": null,
   "id": "03129183",
   "metadata": {},
   "outputs": [],
   "source": []
  },
  {
   "cell_type": "code",
   "execution_count": null,
   "id": "f27c2f32",
   "metadata": {},
   "outputs": [],
   "source": []
  },
  {
   "cell_type": "code",
   "execution_count": null,
   "id": "02116c49",
   "metadata": {},
   "outputs": [],
   "source": []
  },
  {
   "cell_type": "code",
   "execution_count": null,
   "id": "af39b3ef",
   "metadata": {},
   "outputs": [],
   "source": []
  },
  {
   "cell_type": "code",
   "execution_count": null,
   "id": "5b7a86dc",
   "metadata": {},
   "outputs": [],
   "source": []
  },
  {
   "cell_type": "code",
   "execution_count": null,
   "id": "58d87260",
   "metadata": {},
   "outputs": [],
   "source": []
  },
  {
   "cell_type": "code",
   "execution_count": null,
   "id": "d02c8e6d",
   "metadata": {},
   "outputs": [],
   "source": []
  },
  {
   "cell_type": "code",
   "execution_count": null,
   "id": "8bf1dfe4",
   "metadata": {},
   "outputs": [],
   "source": []
  }
 ],
 "metadata": {
  "language_info": {
   "name": "python"
  }
 },
 "nbformat": 4,
 "nbformat_minor": 5
}
