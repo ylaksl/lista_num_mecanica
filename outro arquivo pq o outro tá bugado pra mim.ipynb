{
 "cells": [
  {
   "cell_type": "code",
   "execution_count": null,
   "id": "d24181e3",
   "metadata": {},
   "outputs": [],
   "source": []
  },
  {
   "cell_type": "markdown",
   "id": "2008e701",
   "metadata": {},
   "source": [
    "# Questão 4"
   ]
  },
  {
   "cell_type": "markdown",
   "id": "f44c6dd8",
   "metadata": {},
   "source": [
    "a) Calcule o deslocamento $y(t)$, a velocidade $v(t)$ e o alcance do projetil sem considerar o efeito resistivo do ar."
   ]
  },
  {
   "cell_type": "markdown",
   "id": "21005dde",
   "metadata": {},
   "source": [
    "$\\quad$ Como estamos desconsiderando o efeito resistivo do ar, a única força agindo no corpo será a gravitacional. Assim, pela Segunda Lei de Newton, teremos que "
   ]
  },
  {
   "cell_type": "markdown",
   "id": "4d96246b",
   "metadata": {},
   "source": [
    "$$ \\vec{P} = m\\vec{a}.$$"
   ]
  },
  {
   "cell_type": "markdown",
   "id": "e801abc5",
   "metadata": {},
   "source": [
    "Onde podemos descrever o movimento de maneira independente nos eixos $y$ e $x$. Para o eixo $x$:"
   ]
  },
  {
   "cell_type": "markdown",
   "id": "0aa68184",
   "metadata": {},
   "source": [
    "$$ \\vec{P}_x = m\\vec{a}_{x} \\implies 0 = m a_x \\implies m\\frac{d^2x}{dt^2} = 0 \\implies \\frac{d^2x}{dt^2} = 0 \\implies \\frac{d}{dt}\\left( \\frac{dx}{dt}\\right) = 0 \\implies \\frac{dx}{dt} = cte = v_x$$"
   ]
  },
  {
   "cell_type": "markdown",
   "id": "870ed28f",
   "metadata": {},
   "source": [
    "Assim, obtemos que a velocidade é constante para o movimento horintal do projétil, com a função horária da posição sendo obtida ao integrar a expressão acima, ou seja"
   ]
  },
  {
   "cell_type": "markdown",
   "id": "e82696e1",
   "metadata": {},
   "source": [
    "$$ \\boxed{x(t) = x_0 + v_xt}, \\tag{1}$$"
   ]
  },
  {
   "cell_type": "markdown",
   "id": "47977c99",
   "metadata": {},
   "source": [
    "onde $x_0$ é a posição inicial do projétil."
   ]
  },
  {
   "cell_type": "markdown",
   "id": "f5309985",
   "metadata": {},
   "source": [
    "$\\quad$ Para o eixo $y$:"
   ]
  },
  {
   "cell_type": "markdown",
   "id": "94460555",
   "metadata": {},
   "source": [
    "$$ \\vec{P}_y = m\\vec{a}_y \\implies -mg = ma_y \\implies \\frac{d^2y}{dt^2} = -g \\implies \\frac{d}{dt} \\left( \\frac{dy}{dt}\\right) = -g \\implies \\frac{dv_y}{dt} = -g \\implies dv_y = -gdt$$"
   ]
  },
  {
   "cell_type": "markdown",
   "id": "d8061e01",
   "metadata": {},
   "source": [
    "Podemos integrar a expressão e obter:"
   ]
  },
  {
   "cell_type": "markdown",
   "id": "25e10c1e",
   "metadata": {},
   "source": [
    "$$ \\int_{v_{0y}}^{v_y} dv_y^{\\prime} = - \\int_{t_0=0}^{t} gdt^{\\prime} \\implies v_y - v_{0y} = -gt \\implies \\boxed{v_y = v_{0y} - gt}. $$"
   ]
  },
  {
   "cell_type": "markdown",
   "id": "72946bfd",
   "metadata": {},
   "source": [
    "Mas podemos ressaltar o fato de que $v_y = \\frac{dy}{dt}$, obtendo"
   ]
  },
  {
   "cell_type": "markdown",
   "id": "adaf6e88",
   "metadata": {},
   "source": [
    "$$ \\frac{dy}{dt} = v_{0y} - gt \\implies dy = \\left( v_{0y} - gt\\right)dt \\implies \\int_{y_0}^{y} dy^{\\prime} = \\int_{t_0 = 0}^{t} \\left( v_{0y} -gt\\right)dt^{\\prime}$$"
   ]
  },
  {
   "cell_type": "markdown",
   "id": "471ec05d",
   "metadata": {},
   "source": [
    "$$ \\implies y - y_0 = v_{0y}t - g\\frac{t^2}{2} \\implies \\boxed{y_{(t)} = y_0 + v_{0y}t - g\\frac{t^2}{2}}. \\tag{2}$$"
   ]
  },
  {
   "cell_type": "markdown",
   "id": "9f3bde55",
   "metadata": {},
   "source": [
    "A partir dessa expressão $y(t)$, podemos obter a expressão $y(x)$. A partir de (1), obtemos que"
   ]
  },
  {
   "cell_type": "markdown",
   "id": "03129183",
   "metadata": {},
   "source": [
    "$$ x - x_0 = v_xt \\implies t = \\frac{x-x_0}{v_x}.$$"
   ]
  },
  {
   "cell_type": "markdown",
   "id": "f27c2f32",
   "metadata": {},
   "source": [
    "Substituindo esse valor na expressão de (2):"
   ]
  },
  {
   "cell_type": "markdown",
   "id": "66782999",
   "metadata": {},
   "source": [
    "$$y(x) = y_0 + v_{0y} \\frac{\\left(x-x_0\\right)}{v_x} - \\frac{g}{2} \\left( \\frac{\\left( x-x_0\\right)}{v_x}\\right)^2.$$"
   ]
  },
  {
   "cell_type": "markdown",
   "id": "02116c49",
   "metadata": {},
   "source": [
    "Vamos adotar um referencial tal que $x_0 = 0$ e $y_0 = 0$, assim"
   ]
  },
  {
   "cell_type": "markdown",
   "id": "af39b3ef",
   "metadata": {},
   "source": [
    "$$ y(x) =\\frac{v_{0y}}{v_x} x - \\frac{g}{2} \\frac{x^2}{v_x^2}.$$"
   ]
  },
  {
   "cell_type": "markdown",
   "id": "5b7a86dc",
   "metadata": {},
   "source": [
    "Agora, como o lançamento é inicial com velocidade $v_0$ e formando um angulo $\\theta$ com i semieixo positivo de x, teremos as relações"
   ]
  },
  {
   "cell_type": "markdown",
   "id": "58d87260",
   "metadata": {},
   "source": [
    "$$ v_{0x} = v_x = v_0 \\cos{\\theta} \\ \\text{ e } \\ v_{0y} = v_0\\sin{\\theta}.$$"
   ]
  },
  {
   "cell_type": "markdown",
   "id": "d02c8e6d",
   "metadata": {},
   "source": [
    "Utilizando essas relações em (3):"
   ]
  },
  {
   "cell_type": "markdown",
   "id": "fa1b6fbe",
   "metadata": {},
   "source": [
    "$$ y(x) = \\frac{v_0 \\sin{\\theta}}{v_0\\cos{\\theta}}x - \\frac{g}{2} \\frac{x^2}{v_0^2\\cos^2{\\theta}} = $$"
   ]
  },
  {
   "cell_type": "markdown",
   "id": "3dc8dfab",
   "metadata": {},
   "source": [
    "Para obtermos o alcance máximo do projétil, temos que obter o $x$ tal que $y(x)$ será igual a zero. Isso acontece no início da trajetória ($x=0$) e no local de alcance máximo do projétil. Logo, temos que determinar o $x$ tal que $y(x) = 0$. Ou seja"
   ]
  },
  {
   "cell_type": "markdown",
   "id": "f684dec0",
   "metadata": {},
   "source": [
    "$$ x\\tg{\\theta} - \\frac{g}{2v_0^2\\cos^2{\\theta}}x^2 = 0.$$"
   ]
  },
  {
   "cell_type": "markdown",
   "id": "8bf1dfe4",
   "metadata": {},
   "source": [
    "Utilizando a Eq. de Baskara para $a = -\\frac{g}{2v_0^{2}\\cos^2{\\theta}}$, $b = \\tg{\\theta}$ e $c = 0$:"
   ]
  },
  {
   "cell_type": "markdown",
   "id": "b28765a1",
   "metadata": {},
   "source": [
    "$$ x_{max} = \\frac{-\\tg{\\theta} \\pm \\sqrt{\\tg^2{\\theta}}}{2a}$$ "
   ]
  },
  {
   "cell_type": "markdown",
   "id": "59f1d069",
   "metadata": {},
   "source": [
    "Se adotarmos o sinal positivo, $x$ será a solução trivial. Então, vamos adotador a solução com a subtração, obtendo"
   ]
  },
  {
   "cell_type": "markdown",
   "id": "c5217f30",
   "metadata": {},
   "source": [
    "$$ x_{max} = \\frac{-2\\tg{\\theta}}{-2 \\frac{g}{2v_0^2 \\cos^2{\\theta}}} = \\frac{2\\tg{\\theta} v_0^2\\cos^2{\\theta}}{g} \\implies \\boxed{x_{max} = \\frac{2v_0^2 \\sin{\\theta} \\cos{\\theta}}{g}}.$$"
   ]
  },
  {
   "cell_type": "markdown",
   "id": "12300ce4",
   "metadata": {},
   "source": [
    "b)"
   ]
  },
  {
   "cell_type": "markdown",
   "id": "6ec572d0",
   "metadata": {},
   "source": [
    "Agora iremos considerar que o corpo, além de estar exposto à força gravitacional, também estará sofrendo a ação de uma força de retardo proporcional à sua velocidade $v$. Assim, a Segunda Lei de Newton para o projétil fica com a seguinte forma"
   ]
  },
  {
   "cell_type": "markdown",
   "id": "b8b5e74c",
   "metadata": {},
   "source": [
    "$$ \\vec{P} + f(v)\\left(-\\hat{v}\\right) = m\\vec{a} \\implies \\vec{P} - f(v) \\hat{v} = m\\vec{a}$$"
   ]
  },
  {
   "cell_type": "markdown",
   "id": "00601912",
   "metadata": {},
   "source": [
    "Como a força de retardo é proporcional à velocidade, podemos escrevê-la como $f(v) = kv$. Resultando em "
   ]
  },
  {
   "cell_type": "markdown",
   "id": "30ebb045",
   "metadata": {},
   "source": [
    "$$\\vec{P} - kv\\hat{v} = m\\vec{a} \\implies \\vec{P} - k \\vec{v} = m\\vec{a}$$"
   ]
  },
  {
   "cell_type": "markdown",
   "id": "385b1575",
   "metadata": {},
   "source": [
    "Em x:"
   ]
  },
  {
   "cell_type": "markdown",
   "id": "e17ede1c",
   "metadata": {},
   "source": [
    "$$ -kv_x = ma_x \\implies \\frac{dv_x}{dt} = -kv_x$$"
   ]
  },
  {
   "cell_type": "code",
   "execution_count": null,
   "id": "9224f6a2",
   "metadata": {},
   "outputs": [],
   "source": []
  },
  {
   "cell_type": "code",
   "execution_count": null,
   "id": "b38b5812",
   "metadata": {},
   "outputs": [],
   "source": []
  },
  {
   "cell_type": "markdown",
   "id": "ae867435",
   "metadata": {},
   "source": [
    "VAI SER UMA ANÁLISE GIGANTESCA PQP"
   ]
  },
  {
   "cell_type": "markdown",
   "id": "f3da1c7f",
   "metadata": {},
   "source": [
    "c)"
   ]
  },
  {
   "cell_type": "code",
   "execution_count": null,
   "id": "bc11e633",
   "metadata": {},
   "outputs": [],
   "source": []
  },
  {
   "cell_type": "code",
   "execution_count": null,
   "id": "c27faa13",
   "metadata": {},
   "outputs": [],
   "source": []
  }
 ],
 "metadata": {
  "language_info": {
   "name": "python"
  }
 },
 "nbformat": 4,
 "nbformat_minor": 5
}
